{
 "cells": [
  {
   "cell_type": "code",
   "execution_count": 1,
   "metadata": {},
   "outputs": [],
   "source": [
    "%matplotlib inline\n",
    "from matplotlib import style\n",
    "style.use('fivethirtyeight')\n",
    "import matplotlib.pyplot as plt"
   ]
  },
  {
   "cell_type": "code",
   "execution_count": 2,
   "metadata": {},
   "outputs": [],
   "source": [
    "import numpy as np\n",
    "import pandas as pd"
   ]
  },
  {
   "cell_type": "code",
   "execution_count": 3,
   "metadata": {},
   "outputs": [],
   "source": [
    "import datetime as dt"
   ]
  },
  {
   "cell_type": "markdown",
   "metadata": {},
   "source": [
    "# Reflect Tables into SQLAlchemy ORM"
   ]
  },
  {
   "cell_type": "code",
   "execution_count": 4,
   "metadata": {},
   "outputs": [],
   "source": [
    "# Python SQL toolkit and Object Relational Mapper\n",
    "import sqlalchemy\n",
    "from sqlalchemy.ext.automap import automap_base\n",
    "from sqlalchemy.orm import Session\n",
    "from sqlalchemy import create_engine, func"
   ]
  },
  {
   "cell_type": "code",
   "execution_count": 5,
   "metadata": {},
   "outputs": [],
   "source": [
    "engine = create_engine(\"sqlite:///Resources/hawaii.sqlite\")"
   ]
  },
  {
   "cell_type": "code",
   "execution_count": 6,
   "metadata": {},
   "outputs": [],
   "source": [
    "# reflect an existing database into a new model\n",
    "Base = automap_base()\n",
    "# reflect the tables\n",
    "Base.prepare(engine, reflect=True)"
   ]
  },
  {
   "cell_type": "code",
   "execution_count": 7,
   "metadata": {},
   "outputs": [
    {
     "data": {
      "text/plain": [
       "['measurement', 'station']"
      ]
     },
     "execution_count": 7,
     "metadata": {},
     "output_type": "execute_result"
    }
   ],
   "source": [
    "# We can view all of the classes that automap found\n",
    "Base.classes.keys()"
   ]
  },
  {
   "cell_type": "code",
   "execution_count": 8,
   "metadata": {},
   "outputs": [],
   "source": [
    "# Save references to each table\n",
    "Measurement = Base.classes.measurement\n",
    "Station = Base.classes.station"
   ]
  },
  {
   "cell_type": "code",
   "execution_count": 9,
   "metadata": {},
   "outputs": [],
   "source": [
    "# Create our session (link) from Python to the DB\n",
    "session = Session(engine)"
   ]
  },
  {
   "cell_type": "code",
   "execution_count": 10,
   "metadata": {},
   "outputs": [
    {
     "data": {
      "text/plain": [
       "['id', 'station', 'date', 'prcp', 'tobs']"
      ]
     },
     "execution_count": 10,
     "metadata": {},
     "output_type": "execute_result"
    }
   ],
   "source": [
    "# List of the column headers\n",
    "# Station.__table__.columns.keys()\n",
    "Measurement.__table__.columns.keys()\n",
    "\n",
    "\n",
    "# Station.__table__.columns.values()\n",
    "# Measurement.__table__.columns.values()\n"
   ]
  },
  {
   "cell_type": "code",
   "execution_count": 11,
   "metadata": {},
   "outputs": [
    {
     "data": {
      "text/plain": [
       "{'_sa_instance_state': <sqlalchemy.orm.state.InstanceState at 0x15c20562e48>,\n",
       " 'station': 'USC00519397',\n",
       " 'prcp': 0.08,\n",
       " 'tobs': 65.0,\n",
       " 'id': 1,\n",
       " 'date': '2010-01-01'}"
      ]
     },
     "execution_count": 11,
     "metadata": {},
     "output_type": "execute_result"
    }
   ],
   "source": [
    "# First row of the table Measument\n",
    "first_row_m = session.query(Measurement).first()\n",
    "first_row_m.__dict__"
   ]
  },
  {
   "cell_type": "code",
   "execution_count": 12,
   "metadata": {},
   "outputs": [
    {
     "data": {
      "text/plain": [
       "{'_sa_instance_state': <sqlalchemy.orm.state.InstanceState at 0x15c20581b48>,\n",
       " 'latitude': 21.2716,\n",
       " 'elevation': 3.0,\n",
       " 'longitude': -157.8168,\n",
       " 'id': 1,\n",
       " 'station': 'USC00519397',\n",
       " 'name': 'WAIKIKI 717.2, HI US'}"
      ]
     },
     "execution_count": 12,
     "metadata": {},
     "output_type": "execute_result"
    }
   ],
   "source": [
    "# First row of the table Station\n",
    "first_row_s = session.query(Station).first()\n",
    "first_row_s.__dict__"
   ]
  },
  {
   "cell_type": "markdown",
   "metadata": {},
   "source": [
    "# Exploratory Climate Analysis"
   ]
  },
  {
   "cell_type": "markdown",
   "metadata": {},
   "source": [
    "Design a query to retrieve the last 12 months of precipitation data and plot the results"
   ]
  },
  {
   "cell_type": "code",
   "execution_count": 13,
   "metadata": {},
   "outputs": [
    {
     "data": {
      "text/plain": [
       "('2017-08-23')"
      ]
     },
     "execution_count": 13,
     "metadata": {},
     "output_type": "execute_result"
    }
   ],
   "source": [
    "# What is the latest date?\n",
    "session.query(Measurement.date).order_by(Measurement.date.desc()).first()"
   ]
  },
  {
   "cell_type": "code",
   "execution_count": 14,
   "metadata": {},
   "outputs": [],
   "source": [
    "# Dates for the last 12 months \n",
    "query_date = dt.date(2017, 8, 23) - dt.timedelta(days=365)\n",
    "\n",
    "# Execute Query\n",
    "prcp_12mo = session.query(Measurement.date, Measurement.prcp).filter(Measurement.date > query_date).all()"
   ]
  },
  {
   "cell_type": "code",
   "execution_count": 15,
   "metadata": {},
   "outputs": [
    {
     "data": {
      "text/html": [
       "<div>\n",
       "<style scoped>\n",
       "    .dataframe tbody tr th:only-of-type {\n",
       "        vertical-align: middle;\n",
       "    }\n",
       "\n",
       "    .dataframe tbody tr th {\n",
       "        vertical-align: top;\n",
       "    }\n",
       "\n",
       "    .dataframe thead th {\n",
       "        text-align: right;\n",
       "    }\n",
       "</style>\n",
       "<table border=\"1\" class=\"dataframe\">\n",
       "  <thead>\n",
       "    <tr style=\"text-align: right;\">\n",
       "      <th></th>\n",
       "      <th>Precipitation (mm)</th>\n",
       "    </tr>\n",
       "    <tr>\n",
       "      <th>Date (yyyy-mm-dd)</th>\n",
       "      <th></th>\n",
       "    </tr>\n",
       "  </thead>\n",
       "  <tbody>\n",
       "    <tr>\n",
       "      <td>2016-08-24</td>\n",
       "      <td>0.08</td>\n",
       "    </tr>\n",
       "    <tr>\n",
       "      <td>2016-08-25</td>\n",
       "      <td>0.08</td>\n",
       "    </tr>\n",
       "    <tr>\n",
       "      <td>2016-08-26</td>\n",
       "      <td>0.00</td>\n",
       "    </tr>\n",
       "    <tr>\n",
       "      <td>2016-08-27</td>\n",
       "      <td>0.00</td>\n",
       "    </tr>\n",
       "    <tr>\n",
       "      <td>2016-08-28</td>\n",
       "      <td>0.01</td>\n",
       "    </tr>\n",
       "    <tr>\n",
       "      <td>...</td>\n",
       "      <td>...</td>\n",
       "    </tr>\n",
       "    <tr>\n",
       "      <td>2017-08-19</td>\n",
       "      <td>0.09</td>\n",
       "    </tr>\n",
       "    <tr>\n",
       "      <td>2017-08-20</td>\n",
       "      <td>NaN</td>\n",
       "    </tr>\n",
       "    <tr>\n",
       "      <td>2017-08-21</td>\n",
       "      <td>0.56</td>\n",
       "    </tr>\n",
       "    <tr>\n",
       "      <td>2017-08-22</td>\n",
       "      <td>0.50</td>\n",
       "    </tr>\n",
       "    <tr>\n",
       "      <td>2017-08-23</td>\n",
       "      <td>0.45</td>\n",
       "    </tr>\n",
       "  </tbody>\n",
       "</table>\n",
       "<p>2223 rows × 1 columns</p>\n",
       "</div>"
      ],
      "text/plain": [
       "                   Precipitation (mm)\n",
       "Date (yyyy-mm-dd)                    \n",
       "2016-08-24                       0.08\n",
       "2016-08-25                       0.08\n",
       "2016-08-26                       0.00\n",
       "2016-08-27                       0.00\n",
       "2016-08-28                       0.01\n",
       "...                               ...\n",
       "2017-08-19                       0.09\n",
       "2017-08-20                        NaN\n",
       "2017-08-21                       0.56\n",
       "2017-08-22                       0.50\n",
       "2017-08-23                       0.45\n",
       "\n",
       "[2223 rows x 1 columns]"
      ]
     },
     "execution_count": 15,
     "metadata": {},
     "output_type": "execute_result"
    }
   ],
   "source": [
    "# Feed query into DF \n",
    "prcp_12mo_df = pd.DataFrame(prcp_12mo)\n",
    "prcp_12mo_df.rename(columns = {'date': 'Date (yyyy-mm-dd)', 'prcp': 'Precipitation (mm)'}, inplace = True)\n",
    "prcp_12mo_df_idx =  prcp_12mo_df.set_index(\"Date (yyyy-mm-dd)\")\n",
    "prcp_12mo_df_idx"
   ]
  },
  {
   "cell_type": "code",
   "execution_count": 16,
   "metadata": {},
   "outputs": [
    {
     "data": {
      "image/png": "[encoded data removed]",
      "text/plain": [
       "<Figure size 2160x720 with 1 Axes>"
      ]
     },
     "metadata": {
      "needs_background": "light"
     },
     "output_type": "display_data"
    }
   ],
   "source": [
    "# Plot query\n",
    "plot1 = prcp_12mo_df_idx.plot(kind='bar', y='Precipitation (mm)', color='red', figsize=(30,10))\n",
    "plot1.axes.get_xaxis().set_visible(False)\n",
    "plt.tight_layout()\n",
    "plt.show()\n",
    "# plt.savefig(\"Resources/test.jpeg\")"
   ]
  },
  {
   "cell_type": "markdown",
   "metadata": {},
   "source": [
    "![precipitation](Images/precipitation.png)"
   ]
  },
  {
   "cell_type": "code",
   "execution_count": 17,
   "metadata": {},
   "outputs": [
    {
     "data": {
      "text/plain": [
       "count    2015.000000\n",
       "mean        0.176462\n",
       "std         0.460288\n",
       "min         0.000000\n",
       "25%         0.000000\n",
       "50%         0.020000\n",
       "75%         0.130000\n",
       "max         6.700000\n",
       "Name: Precipitation (mm), dtype: float64"
      ]
     },
     "execution_count": 17,
     "metadata": {},
     "output_type": "execute_result"
    }
   ],
   "source": [
    "# Use Pandas to calcualte the summary statistics for the precipitation data\n",
    "prcp_stat = prcp_12mo_df_idx['Precipitation (mm)'].describe()\n",
    "prcp_stat"
   ]
  },
  {
   "cell_type": "markdown",
   "metadata": {},
   "source": [
    "![describe](Images/describe.png)"
   ]
  },
  {
   "cell_type": "code",
   "execution_count": 18,
   "metadata": {},
   "outputs": [
    {
     "name": "stdout",
     "output_type": "stream",
     "text": [
      "The total number of stations in this dataset is 9\n"
     ]
    }
   ],
   "source": [
    "# Design a query to show how many stations are available in this dataset?\n",
    "station_total = session.query(Measurement.station.distinct()).count()\n",
    "print(f'The total number of stations in this dataset is {station_total}')"
   ]
  },
  {
   "cell_type": "code",
   "execution_count": 19,
   "metadata": {},
   "outputs": [
    {
     "data": {
      "text/plain": [
       "[('USC00519281', 2772),\n",
       " ('USC00519397', 2724),\n",
       " ('USC00513117', 2709),\n",
       " ('USC00519523', 2669),\n",
       " ('USC00516128', 2612),\n",
       " ('USC00514830', 2202),\n",
       " ('USC00511918', 1979),\n",
       " ('USC00517948', 1372),\n",
       " ('USC00518838', 511)]"
      ]
     },
     "execution_count": 19,
     "metadata": {},
     "output_type": "execute_result"
    }
   ],
   "source": [
    "# What are the most active stations? (i.e. what stations have the most rows)?\n",
    "# List the stations and the counts in descending order.\n",
    "station_count = (session.query(Measurement.station, func.count(Measurement.station))).group_by(Measurement.station).order_by(func.count(Measurement.station).desc()).all()\n",
    "station_count\n"
   ]
  },
  {
   "cell_type": "code",
   "execution_count": 20,
   "metadata": {},
   "outputs": [
    {
     "name": "stdout",
     "output_type": "stream",
     "text": [
      "The highest temperature recorded by the most active station: [('USC00519281', 85.0)]\n",
      "The lowest temperature recorded by the most active station: [('USC00519281', 54.0)]\n",
      "The average temperature recorded by the most active station: [('USC00519281', 71.66378066378067)]\n"
     ]
    }
   ],
   "source": [
    "# Using the station id from the previous query, calculate the lowest temperature recorded, \n",
    "# highest temperature recorded, and average temperature of the most active station?\n",
    "station_max = (session.query(Measurement.station, func.max(Measurement.tobs))).filter(Measurement.station == 'USC00519281').all()\n",
    "# station_max\n",
    "\n",
    "station_min = (session.query(Measurement.station, func.min(Measurement.tobs))).filter(Measurement.station == 'USC00519281').all()\n",
    "# station_min\n",
    "\n",
    "station_avg = (session.query(Measurement.station, func.avg(Measurement.tobs))).filter(Measurement.station == 'USC00519281').all()\n",
    "# station_avg\n",
    "\n",
    "print(f'The highest temperature recorded by the most active station: {station_max}')\n",
    "print(f'The lowest temperature recorded by the most active station: {station_min}')\n",
    "print(f'The average temperature recorded by the most active station: {station_avg}')"
   ]
  },
  {
   "cell_type": "code",
   "execution_count": 21,
   "metadata": {},
   "outputs": [
    {
     "data": {
      "text/plain": [
       "('USC00519281', '2017-08-18')"
      ]
     },
     "execution_count": 21,
     "metadata": {},
     "output_type": "execute_result"
    }
   ],
   "source": [
    "# Choose the station with the highest number of temperature observations.\n",
    "# Query the last 12 months of temperature observation data for this station and plot the results as a histogram\n",
    "session.query(Measurement.station, Measurement.date).filter(Measurement.station == 'USC00519281').order_by(Measurement.date.desc()).first()"
   ]
  },
  {
   "cell_type": "code",
   "execution_count": 23,
   "metadata": {
    "collapsed": true,
    "jupyter": {
     "outputs_hidden": true
    }
   },
   "outputs": [
    {
     "data": {
      "text/plain": [
       "[('2016-08-19', 79.0, 'USC00519281'),\n",
       " ('2016-08-20', 81.0, 'USC00519281'),\n",
       " ('2016-08-21', 79.0, 'USC00519281'),\n",
       " ('2016-08-22', 78.0, 'USC00519281'),\n",
       " ('2016-08-23', 77.0, 'USC00519281'),\n",
       " ('2016-08-24', 77.0, 'USC00519281'),\n",
       " ('2016-08-25', 80.0, 'USC00519281'),\n",
       " ('2016-08-26', 80.0, 'USC00519281'),\n",
       " ('2016-08-27', 75.0, 'USC00519281'),\n",
       " ('2016-08-28', 73.0, 'USC00519281'),\n",
       " ('2016-08-29', 78.0, 'USC00519281'),\n",
       " ('2016-08-30', 77.0, 'USC00519281'),\n",
       " ('2016-08-31', 78.0, 'USC00519281'),\n",
       " ('2016-09-01', 80.0, 'USC00519281'),\n",
       " ('2016-09-02', 80.0, 'USC00519281'),\n",
       " ('2016-09-03', 78.0, 'USC00519281'),\n",
       " ('2016-09-04', 78.0, 'USC00519281'),\n",
       " ('2016-09-05', 78.0, 'USC00519281'),\n",
       " ('2016-09-06', 73.0, 'USC00519281'),\n",
       " ('2016-09-07', 74.0, 'USC00519281'),\n",
       " ('2016-09-08', 80.0, 'USC00519281'),\n",
       " ('2016-09-09', 79.0, 'USC00519281'),\n",
       " ('2016-09-10', 77.0, 'USC00519281'),\n",
       " ('2016-09-11', 80.0, 'USC00519281'),\n",
       " ('2016-09-12', 76.0, 'USC00519281'),\n",
       " ('2016-09-13', 79.0, 'USC00519281'),\n",
       " ('2016-09-14', 75.0, 'USC00519281'),\n",
       " ('2016-09-15', 79.0, 'USC00519281'),\n",
       " ('2016-09-16', 78.0, 'USC00519281'),\n",
       " ('2016-09-17', 79.0, 'USC00519281'),\n",
       " ('2016-09-18', 78.0, 'USC00519281'),\n",
       " ('2016-09-19', 78.0, 'USC00519281'),\n",
       " ('2016-09-20', 76.0, 'USC00519281'),\n",
       " ('2016-09-21', 74.0, 'USC00519281'),\n",
       " ('2016-09-22', 77.0, 'USC00519281'),\n",
       " ('2016-09-23', 78.0, 'USC00519281'),\n",
       " ('2016-09-24', 79.0, 'USC00519281'),\n",
       " ('2016-09-25', 79.0, 'USC00519281'),\n",
       " ('2016-09-26', 77.0, 'USC00519281'),\n",
       " ('2016-09-27', 80.0, 'USC00519281'),\n",
       " ('2016-09-28', 78.0, 'USC00519281'),\n",
       " ('2016-09-29', 78.0, 'USC00519281'),\n",
       " ('2016-09-30', 78.0, 'USC00519281'),\n",
       " ('2016-10-01', 77.0, 'USC00519281'),\n",
       " ('2016-10-02', 79.0, 'USC00519281'),\n",
       " ('2016-10-03', 79.0, 'USC00519281'),\n",
       " ('2016-10-04', 79.0, 'USC00519281'),\n",
       " ('2016-10-05', 79.0, 'USC00519281'),\n",
       " ('2016-10-06', 75.0, 'USC00519281'),\n",
       " ('2016-10-07', 76.0, 'USC00519281'),\n",
       " ('2016-10-08', 73.0, 'USC00519281'),\n",
       " ('2016-10-09', 72.0, 'USC00519281'),\n",
       " ('2016-10-10', 71.0, 'USC00519281'),\n",
       " ('2016-10-11', 77.0, 'USC00519281'),\n",
       " ('2016-10-12', 79.0, 'USC00519281'),\n",
       " ('2016-10-13', 78.0, 'USC00519281'),\n",
       " ('2016-10-14', 79.0, 'USC00519281'),\n",
       " ('2016-10-15', 77.0, 'USC00519281'),\n",
       " ('2016-10-16', 79.0, 'USC00519281'),\n",
       " ('2016-10-17', 77.0, 'USC00519281'),\n",
       " ('2016-10-18', 78.0, 'USC00519281'),\n",
       " ('2016-10-19', 78.0, 'USC00519281'),\n",
       " ('2016-10-20', 78.0, 'USC00519281'),\n",
       " ('2016-10-21', 78.0, 'USC00519281'),\n",
       " ('2016-10-22', 77.0, 'USC00519281'),\n",
       " ('2016-10-23', 74.0, 'USC00519281'),\n",
       " ('2016-10-24', 75.0, 'USC00519281'),\n",
       " ('2016-10-25', 76.0, 'USC00519281'),\n",
       " ('2016-10-26', 73.0, 'USC00519281'),\n",
       " ('2016-10-27', 76.0, 'USC00519281'),\n",
       " ('2016-10-28', 74.0, 'USC00519281'),\n",
       " ('2016-10-29', 77.0, 'USC00519281'),\n",
       " ('2016-10-30', 76.0, 'USC00519281'),\n",
       " ('2016-10-31', 76.0, 'USC00519281'),\n",
       " ('2016-11-01', 74.0, 'USC00519281'),\n",
       " ('2016-11-02', 75.0, 'USC00519281'),\n",
       " ('2016-11-03', 75.0, 'USC00519281'),\n",
       " ('2016-11-04', 75.0, 'USC00519281'),\n",
       " ('2016-11-05', 75.0, 'USC00519281'),\n",
       " ('2016-11-06', 71.0, 'USC00519281'),\n",
       " ('2016-11-07', 63.0, 'USC00519281'),\n",
       " ('2016-11-08', 70.0, 'USC00519281'),\n",
       " ('2016-11-09', 68.0, 'USC00519281'),\n",
       " ('2016-11-10', 67.0, 'USC00519281'),\n",
       " ('2016-11-11', 77.0, 'USC00519281'),\n",
       " ('2016-11-12', 74.0, 'USC00519281'),\n",
       " ('2016-11-13', 77.0, 'USC00519281'),\n",
       " ('2016-11-14', 76.0, 'USC00519281'),\n",
       " ('2016-11-15', 76.0, 'USC00519281'),\n",
       " ('2016-11-16', 75.0, 'USC00519281'),\n",
       " ('2016-11-17', 76.0, 'USC00519281'),\n",
       " ('2016-11-18', 75.0, 'USC00519281'),\n",
       " ('2016-11-19', 73.0, 'USC00519281'),\n",
       " ('2016-11-20', 75.0, 'USC00519281'),\n",
       " ('2016-11-21', 73.0, 'USC00519281'),\n",
       " ('2016-11-22', 75.0, 'USC00519281'),\n",
       " ('2016-11-23', 74.0, 'USC00519281'),\n",
       " ('2016-11-24', 75.0, 'USC00519281'),\n",
       " ('2016-11-25', 74.0, 'USC00519281'),\n",
       " ('2016-11-26', 75.0, 'USC00519281'),\n",
       " ('2016-11-27', 73.0, 'USC00519281'),\n",
       " ('2016-11-28', 75.0, 'USC00519281'),\n",
       " ('2016-11-29', 73.0, 'USC00519281'),\n",
       " ('2016-11-30', 73.0, 'USC00519281'),\n",
       " ('2016-12-01', 74.0, 'USC00519281'),\n",
       " ('2016-12-02', 70.0, 'USC00519281'),\n",
       " ('2016-12-03', 72.0, 'USC00519281'),\n",
       " ('2016-12-04', 70.0, 'USC00519281'),\n",
       " ('2016-12-05', 67.0, 'USC00519281'),\n",
       " ('2016-12-06', 67.0, 'USC00519281'),\n",
       " ('2016-12-07', 69.0, 'USC00519281'),\n",
       " ('2016-12-08', 70.0, 'USC00519281'),\n",
       " ('2016-12-09', 68.0, 'USC00519281'),\n",
       " ('2016-12-10', 69.0, 'USC00519281'),\n",
       " ('2016-12-11', 69.0, 'USC00519281'),\n",
       " ('2016-12-12', 66.0, 'USC00519281'),\n",
       " ('2016-12-13', 65.0, 'USC00519281'),\n",
       " ('2016-12-14', 68.0, 'USC00519281'),\n",
       " ('2016-12-15', 62.0, 'USC00519281'),\n",
       " ('2016-12-16', 75.0, 'USC00519281'),\n",
       " ('2016-12-17', 70.0, 'USC00519281'),\n",
       " ('2016-12-18', 69.0, 'USC00519281'),\n",
       " ('2016-12-19', 76.0, 'USC00519281'),\n",
       " ('2016-12-20', 76.0, 'USC00519281'),\n",
       " ('2016-12-21', 74.0, 'USC00519281'),\n",
       " ('2016-12-22', 73.0, 'USC00519281'),\n",
       " ('2016-12-23', 71.0, 'USC00519281'),\n",
       " ('2016-12-24', 74.0, 'USC00519281'),\n",
       " ('2016-12-25', 74.0, 'USC00519281'),\n",
       " ('2016-12-26', 72.0, 'USC00519281'),\n",
       " ('2016-12-27', 71.0, 'USC00519281'),\n",
       " ('2016-12-28', 72.0, 'USC00519281'),\n",
       " ('2016-12-29', 74.0, 'USC00519281'),\n",
       " ('2016-12-30', 69.0, 'USC00519281'),\n",
       " ('2016-12-31', 67.0, 'USC00519281'),\n",
       " ('2017-01-01', 72.0, 'USC00519281'),\n",
       " ('2017-01-02', 70.0, 'USC00519281'),\n",
       " ('2017-01-03', 64.0, 'USC00519281'),\n",
       " ('2017-01-04', 63.0, 'USC00519281'),\n",
       " ('2017-01-05', 63.0, 'USC00519281'),\n",
       " ('2017-01-06', 62.0, 'USC00519281'),\n",
       " ('2017-01-07', 70.0, 'USC00519281'),\n",
       " ('2017-01-08', 70.0, 'USC00519281'),\n",
       " ('2017-01-09', 62.0, 'USC00519281'),\n",
       " ('2017-01-10', 62.0, 'USC00519281'),\n",
       " ('2017-01-11', 63.0, 'USC00519281'),\n",
       " ('2017-01-12', 65.0, 'USC00519281'),\n",
       " ('2017-01-13', 69.0, 'USC00519281'),\n",
       " ('2017-01-14', 77.0, 'USC00519281'),\n",
       " ('2017-01-15', 70.0, 'USC00519281'),\n",
       " ('2017-01-16', 74.0, 'USC00519281'),\n",
       " ('2017-01-17', 69.0, 'USC00519281'),\n",
       " ('2017-01-18', 72.0, 'USC00519281'),\n",
       " ('2017-01-19', 71.0, 'USC00519281'),\n",
       " ('2017-01-20', 69.0, 'USC00519281'),\n",
       " ('2017-01-21', 71.0, 'USC00519281'),\n",
       " ('2017-01-22', 71.0, 'USC00519281'),\n",
       " ('2017-01-23', 72.0, 'USC00519281'),\n",
       " ('2017-01-24', 72.0, 'USC00519281'),\n",
       " ('2017-01-25', 69.0, 'USC00519281'),\n",
       " ('2017-01-26', 70.0, 'USC00519281'),\n",
       " ('2017-01-27', 66.0, 'USC00519281'),\n",
       " ('2017-01-28', 65.0, 'USC00519281'),\n",
       " ('2017-01-29', 69.0, 'USC00519281'),\n",
       " ('2017-01-30', 68.0, 'USC00519281'),\n",
       " ('2017-01-31', 68.0, 'USC00519281'),\n",
       " ('2017-02-01', 68.0, 'USC00519281'),\n",
       " ('2017-02-02', 59.0, 'USC00519281'),\n",
       " ('2017-02-03', 60.0, 'USC00519281'),\n",
       " ('2017-02-04', 70.0, 'USC00519281'),\n",
       " ('2017-02-05', 73.0, 'USC00519281'),\n",
       " ('2017-02-06', 75.0, 'USC00519281'),\n",
       " ('2017-02-07', 64.0, 'USC00519281'),\n",
       " ('2017-02-08', 59.0, 'USC00519281'),\n",
       " ('2017-02-09', 59.0, 'USC00519281'),\n",
       " ('2017-02-10', 62.0, 'USC00519281'),\n",
       " ('2017-02-11', 68.0, 'USC00519281'),\n",
       " ('2017-02-12', 70.0, 'USC00519281'),\n",
       " ('2017-02-13', 73.0, 'USC00519281'),\n",
       " ('2017-02-14', 79.0, 'USC00519281'),\n",
       " ('2017-02-15', 75.0, 'USC00519281'),\n",
       " ('2017-02-16', 65.0, 'USC00519281'),\n",
       " ('2017-02-17', 70.0, 'USC00519281'),\n",
       " ('2017-02-18', 74.0, 'USC00519281'),\n",
       " ('2017-02-19', 70.0, 'USC00519281'),\n",
       " ('2017-02-20', 70.0, 'USC00519281'),\n",
       " ('2017-02-21', 71.0, 'USC00519281'),\n",
       " ('2017-02-22', 71.0, 'USC00519281'),\n",
       " ('2017-02-23', 71.0, 'USC00519281'),\n",
       " ('2017-02-24', 69.0, 'USC00519281'),\n",
       " ('2017-02-25', 61.0, 'USC00519281'),\n",
       " ('2017-02-26', 67.0, 'USC00519281'),\n",
       " ('2017-02-27', 65.0, 'USC00519281'),\n",
       " ('2017-02-28', 72.0, 'USC00519281'),\n",
       " ('2017-03-01', 71.0, 'USC00519281'),\n",
       " ('2017-03-02', 73.0, 'USC00519281'),\n",
       " ('2017-03-03', 72.0, 'USC00519281'),\n",
       " ('2017-03-04', 77.0, 'USC00519281'),\n",
       " ('2017-03-05', 73.0, 'USC00519281'),\n",
       " ('2017-03-06', 67.0, 'USC00519281'),\n",
       " ('2017-03-07', 62.0, 'USC00519281'),\n",
       " ('2017-03-08', 64.0, 'USC00519281'),\n",
       " ('2017-03-09', 67.0, 'USC00519281'),\n",
       " ('2017-03-10', 66.0, 'USC00519281'),\n",
       " ('2017-03-11', 81.0, 'USC00519281'),\n",
       " ('2017-03-12', 69.0, 'USC00519281'),\n",
       " ('2017-03-13', 66.0, 'USC00519281'),\n",
       " ('2017-03-14', 67.0, 'USC00519281'),\n",
       " ('2017-03-15', 69.0, 'USC00519281'),\n",
       " ('2017-03-16', 66.0, 'USC00519281'),\n",
       " ('2017-03-17', 68.0, 'USC00519281'),\n",
       " ('2017-03-18', 65.0, 'USC00519281'),\n",
       " ('2017-03-19', 74.0, 'USC00519281'),\n",
       " ('2017-03-20', 69.0, 'USC00519281'),\n",
       " ('2017-03-21', 72.0, 'USC00519281'),\n",
       " ('2017-03-22', 73.0, 'USC00519281'),\n",
       " ('2017-03-23', 72.0, 'USC00519281'),\n",
       " ('2017-03-24', 71.0, 'USC00519281'),\n",
       " ('2017-03-25', 76.0, 'USC00519281'),\n",
       " ('2017-03-26', 77.0, 'USC00519281'),\n",
       " ('2017-03-27', 76.0, 'USC00519281'),\n",
       " ('2017-03-28', 74.0, 'USC00519281'),\n",
       " ('2017-03-29', 68.0, 'USC00519281'),\n",
       " ('2017-03-30', 73.0, 'USC00519281'),\n",
       " ('2017-03-31', 71.0, 'USC00519281'),\n",
       " ('2017-04-01', 74.0, 'USC00519281'),\n",
       " ('2017-04-02', 75.0, 'USC00519281'),\n",
       " ('2017-04-03', 70.0, 'USC00519281'),\n",
       " ('2017-04-04', 67.0, 'USC00519281'),\n",
       " ('2017-04-05', 71.0, 'USC00519281'),\n",
       " ('2017-04-06', 67.0, 'USC00519281'),\n",
       " ('2017-04-07', 74.0, 'USC00519281'),\n",
       " ('2017-04-08', 77.0, 'USC00519281'),\n",
       " ('2017-04-09', 78.0, 'USC00519281'),\n",
       " ('2017-04-10', 67.0, 'USC00519281'),\n",
       " ('2017-04-11', 70.0, 'USC00519281'),\n",
       " ('2017-04-12', 69.0, 'USC00519281'),\n",
       " ('2017-04-13', 69.0, 'USC00519281'),\n",
       " ('2017-04-14', 74.0, 'USC00519281'),\n",
       " ('2017-04-15', 78.0, 'USC00519281'),\n",
       " ('2017-04-16', 71.0, 'USC00519281'),\n",
       " ('2017-04-17', 67.0, 'USC00519281'),\n",
       " ('2017-04-18', 68.0, 'USC00519281'),\n",
       " ('2017-04-19', 67.0, 'USC00519281'),\n",
       " ('2017-04-20', 76.0, 'USC00519281'),\n",
       " ('2017-04-21', 69.0, 'USC00519281'),\n",
       " ('2017-04-22', 72.0, 'USC00519281'),\n",
       " ('2017-04-23', 76.0, 'USC00519281'),\n",
       " ('2017-04-24', 68.0, 'USC00519281'),\n",
       " ('2017-04-25', 72.0, 'USC00519281'),\n",
       " ('2017-04-26', 74.0, 'USC00519281'),\n",
       " ('2017-04-27', 70.0, 'USC00519281'),\n",
       " ('2017-04-28', 67.0, 'USC00519281'),\n",
       " ('2017-04-29', 72.0, 'USC00519281'),\n",
       " ('2017-04-30', 60.0, 'USC00519281'),\n",
       " ('2017-05-01', 65.0, 'USC00519281'),\n",
       " ('2017-05-02', 75.0, 'USC00519281'),\n",
       " ('2017-05-03', 70.0, 'USC00519281'),\n",
       " ('2017-05-04', 75.0, 'USC00519281'),\n",
       " ('2017-05-05', 70.0, 'USC00519281'),\n",
       " ('2017-05-06', 79.0, 'USC00519281'),\n",
       " ('2017-05-07', 75.0, 'USC00519281'),\n",
       " ('2017-05-08', 70.0, 'USC00519281'),\n",
       " ('2017-05-09', 67.0, 'USC00519281'),\n",
       " ('2017-05-10', 74.0, 'USC00519281'),\n",
       " ('2017-05-11', 70.0, 'USC00519281'),\n",
       " ('2017-05-12', 75.0, 'USC00519281'),\n",
       " ('2017-05-13', 76.0, 'USC00519281'),\n",
       " ('2017-05-14', 77.0, 'USC00519281'),\n",
       " ('2017-05-15', 74.0, 'USC00519281'),\n",
       " ('2017-05-16', 74.0, 'USC00519281'),\n",
       " ('2017-05-17', 74.0, 'USC00519281'),\n",
       " ('2017-05-18', 69.0, 'USC00519281'),\n",
       " ('2017-05-19', 68.0, 'USC00519281'),\n",
       " ('2017-05-20', 76.0, 'USC00519281'),\n",
       " ('2017-05-21', 74.0, 'USC00519281'),\n",
       " ('2017-05-22', 71.0, 'USC00519281'),\n",
       " ('2017-05-23', 71.0, 'USC00519281'),\n",
       " ('2017-05-24', 74.0, 'USC00519281'),\n",
       " ('2017-05-25', 74.0, 'USC00519281'),\n",
       " ('2017-05-26', 74.0, 'USC00519281'),\n",
       " ('2017-05-27', 74.0, 'USC00519281'),\n",
       " ('2017-05-28', 80.0, 'USC00519281'),\n",
       " ('2017-05-29', 74.0, 'USC00519281'),\n",
       " ('2017-05-30', 72.0, 'USC00519281'),\n",
       " ('2017-05-31', 75.0, 'USC00519281'),\n",
       " ('2017-06-01', 80.0, 'USC00519281'),\n",
       " ('2017-06-02', 76.0, 'USC00519281'),\n",
       " ('2017-06-03', 76.0, 'USC00519281'),\n",
       " ('2017-06-04', 77.0, 'USC00519281'),\n",
       " ('2017-06-05', 75.0, 'USC00519281'),\n",
       " ('2017-06-06', 75.0, 'USC00519281'),\n",
       " ('2017-06-07', 75.0, 'USC00519281'),\n",
       " ('2017-06-08', 75.0, 'USC00519281'),\n",
       " ('2017-06-09', 72.0, 'USC00519281'),\n",
       " ('2017-06-10', 74.0, 'USC00519281'),\n",
       " ('2017-06-11', 74.0, 'USC00519281'),\n",
       " ('2017-06-12', 74.0, 'USC00519281'),\n",
       " ('2017-06-13', 76.0, 'USC00519281'),\n",
       " ('2017-06-14', 74.0, 'USC00519281'),\n",
       " ('2017-06-15', 75.0, 'USC00519281'),\n",
       " ('2017-06-16', 73.0, 'USC00519281'),\n",
       " ('2017-06-17', 79.0, 'USC00519281'),\n",
       " ('2017-06-18', 75.0, 'USC00519281'),\n",
       " ('2017-06-19', 72.0, 'USC00519281'),\n",
       " ('2017-06-20', 72.0, 'USC00519281'),\n",
       " ('2017-06-21', 74.0, 'USC00519281'),\n",
       " ('2017-06-22', 72.0, 'USC00519281'),\n",
       " ('2017-06-23', 72.0, 'USC00519281'),\n",
       " ('2017-06-24', 77.0, 'USC00519281'),\n",
       " ('2017-06-25', 71.0, 'USC00519281'),\n",
       " ('2017-06-26', 73.0, 'USC00519281'),\n",
       " ('2017-06-27', 76.0, 'USC00519281'),\n",
       " ('2017-06-28', 77.0, 'USC00519281'),\n",
       " ('2017-06-29', 76.0, 'USC00519281'),\n",
       " ('2017-06-30', 76.0, 'USC00519281'),\n",
       " ('2017-07-01', 79.0, 'USC00519281'),\n",
       " ('2017-07-02', 81.0, 'USC00519281'),\n",
       " ('2017-07-03', 76.0, 'USC00519281'),\n",
       " ('2017-07-04', 78.0, 'USC00519281'),\n",
       " ('2017-07-05', 77.0, 'USC00519281'),\n",
       " ('2017-07-06', 74.0, 'USC00519281'),\n",
       " ('2017-07-07', 75.0, 'USC00519281'),\n",
       " ('2017-07-08', 78.0, 'USC00519281'),\n",
       " ('2017-07-09', 78.0, 'USC00519281'),\n",
       " ('2017-07-10', 69.0, 'USC00519281'),\n",
       " ('2017-07-11', 72.0, 'USC00519281'),\n",
       " ('2017-07-12', 74.0, 'USC00519281'),\n",
       " ('2017-07-13', 74.0, 'USC00519281'),\n",
       " ('2017-07-14', 76.0, 'USC00519281'),\n",
       " ('2017-07-15', 80.0, 'USC00519281'),\n",
       " ('2017-07-16', 80.0, 'USC00519281'),\n",
       " ('2017-07-17', 76.0, 'USC00519281'),\n",
       " ('2017-07-18', 76.0, 'USC00519281'),\n",
       " ('2017-07-19', 76.0, 'USC00519281'),\n",
       " ('2017-07-20', 77.0, 'USC00519281'),\n",
       " ('2017-07-21', 77.0, 'USC00519281'),\n",
       " ('2017-07-22', 77.0, 'USC00519281'),\n",
       " ('2017-07-23', 82.0, 'USC00519281'),\n",
       " ('2017-07-24', 75.0, 'USC00519281'),\n",
       " ('2017-07-25', 77.0, 'USC00519281'),\n",
       " ('2017-07-26', 75.0, 'USC00519281'),\n",
       " ('2017-07-27', 76.0, 'USC00519281'),\n",
       " ('2017-07-28', 81.0, 'USC00519281'),\n",
       " ('2017-07-29', 82.0, 'USC00519281'),\n",
       " ('2017-07-30', 81.0, 'USC00519281'),\n",
       " ('2017-07-31', 76.0, 'USC00519281'),\n",
       " ('2017-08-04', 77.0, 'USC00519281'),\n",
       " ('2017-08-05', 82.0, 'USC00519281'),\n",
       " ('2017-08-06', 83.0, 'USC00519281'),\n",
       " ('2017-08-13', 77.0, 'USC00519281'),\n",
       " ('2017-08-14', 77.0, 'USC00519281'),\n",
       " ('2017-08-15', 77.0, 'USC00519281'),\n",
       " ('2017-08-16', 76.0, 'USC00519281'),\n",
       " ('2017-08-17', 76.0, 'USC00519281'),\n",
       " ('2017-08-18', 79.0, 'USC00519281')]"
      ]
     },
     "execution_count": 23,
     "metadata": {},
     "output_type": "execute_result"
    }
   ],
   "source": [
    "# Dates for the last 12 months \n",
    "query_date_2 = dt.date(2017, 8, 18) - dt.timedelta(days=365)\n",
    "\n",
    "# Execute Query\n",
    "tobs_12mo = session.query(Measurement.date, Measurement.tobs, Measurement.station).filter(Measurement.date > query_date_2).filter(Measurement.station == 'USC00519281').all()\n",
    "tobs_12mo"
   ]
  },
  {
   "cell_type": "code",
   "execution_count": 24,
   "metadata": {
    "collapsed": true,
    "jupyter": {
     "outputs_hidden": true
    }
   },
   "outputs": [
    {
     "data": {
      "text/html": [
       "<div>\n",
       "<style scoped>\n",
       "    .dataframe tbody tr th:only-of-type {\n",
       "        vertical-align: middle;\n",
       "    }\n",
       "\n",
       "    .dataframe tbody tr th {\n",
       "        vertical-align: top;\n",
       "    }\n",
       "\n",
       "    .dataframe thead th {\n",
       "        text-align: right;\n",
       "    }\n",
       "</style>\n",
       "<table border=\"1\" class=\"dataframe\">\n",
       "  <thead>\n",
       "    <tr style=\"text-align: right;\">\n",
       "      <th></th>\n",
       "      <th>date</th>\n",
       "      <th>tobs</th>\n",
       "      <th>station</th>\n",
       "    </tr>\n",
       "  </thead>\n",
       "  <tbody>\n",
       "    <tr>\n",
       "      <td>0</td>\n",
       "      <td>2016-08-19</td>\n",
       "      <td>79.0</td>\n",
       "      <td>USC00519281</td>\n",
       "    </tr>\n",
       "    <tr>\n",
       "      <td>1</td>\n",
       "      <td>2016-08-20</td>\n",
       "      <td>81.0</td>\n",
       "      <td>USC00519281</td>\n",
       "    </tr>\n",
       "    <tr>\n",
       "      <td>2</td>\n",
       "      <td>2016-08-21</td>\n",
       "      <td>79.0</td>\n",
       "      <td>USC00519281</td>\n",
       "    </tr>\n",
       "    <tr>\n",
       "      <td>3</td>\n",
       "      <td>2016-08-22</td>\n",
       "      <td>78.0</td>\n",
       "      <td>USC00519281</td>\n",
       "    </tr>\n",
       "    <tr>\n",
       "      <td>4</td>\n",
       "      <td>2016-08-23</td>\n",
       "      <td>77.0</td>\n",
       "      <td>USC00519281</td>\n",
       "    </tr>\n",
       "    <tr>\n",
       "      <td>...</td>\n",
       "      <td>...</td>\n",
       "      <td>...</td>\n",
       "      <td>...</td>\n",
       "    </tr>\n",
       "    <tr>\n",
       "      <td>351</td>\n",
       "      <td>2017-08-14</td>\n",
       "      <td>77.0</td>\n",
       "      <td>USC00519281</td>\n",
       "    </tr>\n",
       "    <tr>\n",
       "      <td>352</td>\n",
       "      <td>2017-08-15</td>\n",
       "      <td>77.0</td>\n",
       "      <td>USC00519281</td>\n",
       "    </tr>\n",
       "    <tr>\n",
       "      <td>353</td>\n",
       "      <td>2017-08-16</td>\n",
       "      <td>76.0</td>\n",
       "      <td>USC00519281</td>\n",
       "    </tr>\n",
       "    <tr>\n",
       "      <td>354</td>\n",
       "      <td>2017-08-17</td>\n",
       "      <td>76.0</td>\n",
       "      <td>USC00519281</td>\n",
       "    </tr>\n",
       "    <tr>\n",
       "      <td>355</td>\n",
       "      <td>2017-08-18</td>\n",
       "      <td>79.0</td>\n",
       "      <td>USC00519281</td>\n",
       "    </tr>\n",
       "  </tbody>\n",
       "</table>\n",
       "<p>356 rows × 3 columns</p>\n",
       "</div>"
      ],
      "text/plain": [
       "           date  tobs      station\n",
       "0    2016-08-19  79.0  USC00519281\n",
       "1    2016-08-20  81.0  USC00519281\n",
       "2    2016-08-21  79.0  USC00519281\n",
       "3    2016-08-22  78.0  USC00519281\n",
       "4    2016-08-23  77.0  USC00519281\n",
       "..          ...   ...          ...\n",
       "351  2017-08-14  77.0  USC00519281\n",
       "352  2017-08-15  77.0  USC00519281\n",
       "353  2017-08-16  76.0  USC00519281\n",
       "354  2017-08-17  76.0  USC00519281\n",
       "355  2017-08-18  79.0  USC00519281\n",
       "\n",
       "[356 rows x 3 columns]"
      ]
     },
     "execution_count": 24,
     "metadata": {},
     "output_type": "execute_result"
    }
   ],
   "source": [
    "tobs_12mo_df = pd.DataFrame(tobs_12mo)\n",
    "tobs_12mo_df"
   ]
  },
  {
   "cell_type": "code",
   "execution_count": null,
   "metadata": {},
   "outputs": [],
   "source": [
    "# plot\n",
    "\n",
    "\n",
    "\n",
    "\n",
    "n_bins = 20\n",
    "\n",
    "# Generate a normal distribution, center at x=0 and y=5\n",
    "x = len(tobs_12mo_df)\n",
    "y = tobs_12mo_df['tobs']\n",
    "\n",
    "fig, axs = plt.subplots(1, 2, sharey=True, tight_layout=True)\n",
    "\n",
    "# We can set the number of bins with the `bins` kwarg\n",
    "axs[0].hist(x, bins=n_bins)\n",
    "axs[1].hist(y, bins=n_bins)\n",
    "\n"
   ]
  },
  {
   "cell_type": "markdown",
   "metadata": {},
   "source": [
    "![precipitation](Images/station-histogram.png)"
   ]
  },
  {
   "cell_type": "code",
   "execution_count": 25,
   "metadata": {},
   "outputs": [
    {
     "name": "stdout",
     "output_type": "stream",
     "text": [
      "[(62.0, 69.57142857142857, 74.0)]\n"
     ]
    }
   ],
   "source": [
    "# This function called `calc_temps` will accept start date and end date in the format '%Y-%m-%d' \n",
    "# and return the minimum, average, and maximum temperatures for that range of dates\n",
    "def calc_temps(start_date, end_date):\n",
    "    \"\"\"TMIN, TAVG, and TMAX for a list of dates.\n",
    "    \n",
    "    Args:\n",
    "        start_date (string): A date string in the format %Y-%m-%d\n",
    "        end_date (string): A date string in the format %Y-%m-%d\n",
    "        \n",
    "    Returns:\n",
    "        TMIN, TAVE, and TMAX\n",
    "    \"\"\"\n",
    "    \n",
    "    return session.query(func.min(Measurement.tobs), func.avg(Measurement.tobs), func.max(Measurement.tobs)).\\\n",
    "        filter(Measurement.date >= start_date).filter(Measurement.date <= end_date).all()\n",
    "\n",
    "# function usage example\n",
    "print(calc_temps('2012-02-28', '2012-03-05'))"
   ]
  },
  {
   "cell_type": "code",
   "execution_count": 30,
   "metadata": {},
   "outputs": [
    {
     "name": "stdout",
     "output_type": "stream",
     "text": [
      "[(61.0, 69.75510204081633, 75.0)]\n"
     ]
    }
   ],
   "source": [
    "# Use your previous function `calc_temps` to calculate the tmin, tavg, and tmax \n",
    "# for your trip using the previous year's data for those same dates.\n",
    "print(calc_temps('2011-02-28', '2011-03-05'))"
   ]
  },
  {
   "cell_type": "code",
   "execution_count": null,
   "metadata": {},
   "outputs": [],
   "source": [
    "# Plot the results from your previous query as a bar chart. \n",
    "# Use \"Trip Avg Temp\" as your Title\n",
    "# Use the average temperature for the y value\n",
    "# Use the peak-to-peak (tmax-tmin) value as the y error bar (yerr)\n"
   ]
  },
  {
   "cell_type": "code",
   "execution_count": 38,
   "metadata": {},
   "outputs": [
    {
     "data": {
      "text/plain": [
       "[(252, 'USC00519523', 'WAIKIKI 717.2, HI US', 21.2716, -157.8168, 3.0),\n",
       " (252, 'USC00519397', 'WAIKIKI 717.2, HI US', 21.2716, -157.8168, 3.0),\n",
       " (252, 'USC00519281', 'WAIKIKI 717.2, HI US', 21.2716, -157.8168, 3.0),\n",
       " (252, 'USC00516128', 'WAIKIKI 717.2, HI US', 21.2716, -157.8168, 3.0),\n",
       " (252, 'USC00513117', 'WAIKIKI 717.2, HI US', 21.2716, -157.8168, 3.0),\n",
       " (252, 'USC00511918', 'WAIKIKI 717.2, HI US', 21.2716, -157.8168, 3.0),\n",
       " (135, 'USC00514830', 'WAIKIKI 717.2, HI US', 21.2716, -157.8168, 3.0),\n",
       " (36, 'USC00518838', 'WAIKIKI 717.2, HI US', 21.2716, -157.8168, 3.0),\n",
       " (18, 'USC00517948', 'WAIKIKI 717.2, HI US', 21.2716, -157.8168, 3.0)]"
      ]
     },
     "execution_count": 38,
     "metadata": {},
     "output_type": "execute_result"
    }
   ],
   "source": [
    "# Calculate the total amount of rainfall per weather station for your trip dates using the previous year's matching dates.\n",
    "# Sort this in descending order by precipitation amount and list the station, name, latitude, longitude, and elevation\n",
    "total_prcp = session.query(func.count(Measurement.prcp), Measurement.station, Station.name, Station.latitude, Station.longitude, Station.elevation).filter(Measurement.date > '2012-02-28').filter(Measurement.date < '2012-03-28').group_by(Measurement.station).order_by(func.count(Measurement.prcp).desc()).all()\n",
    "total_prcp"
   ]
  },
  {
   "cell_type": "code",
   "execution_count": 43,
   "metadata": {},
   "outputs": [
    {
     "data": {
      "text/plain": [
       "list"
      ]
     },
     "execution_count": 43,
     "metadata": {},
     "output_type": "execute_result"
    }
   ],
   "source": [
    "# Join the dbs on station code\n",
    "\n",
    "joint_dbs = session.query(Measurement.station,\n",
    "                         Measurement.prcp,\n",
    "                         Measurement.tobs,\n",
    "                         Measurement.id,\n",
    "                         Measurement.date,\n",
    "                         Station.latitude,\n",
    "                         Station.elevation,\n",
    "                         Station.longitude,\n",
    "                         Station.id,\n",
    "                         Station.station,\n",
    "                         Station.name).join(Station, Measurement.station == Station.station).all()\n",
    "\n",
    "type(joint_dbs)"
   ]
  },
  {
   "cell_type": "code",
   "execution_count": 48,
   "metadata": {},
   "outputs": [
    {
     "name": "stdout",
     "output_type": "stream",
     "text": [
      "Total amount of rainfall: count(:count_1) Station: USC00519523 Name: WAIMANALO EXPERIMENTAL FARM, HI US Latitude: 21.33556 Longitude: -157.71139 Elevation: 19.5\n",
      "Total amount of rainfall: count(:count_1) Station: USC00519397 Name: WAIKIKI 717.2, HI US Latitude: 21.2716 Longitude: -157.8168 Elevation: 3.0\n",
      "Total amount of rainfall: count(:count_1) Station: USC00519281 Name: WAIHEE 837.5, HI US Latitude: 21.45167 Longitude: -157.84888999999998 Elevation: 32.9\n",
      "Total amount of rainfall: count(:count_1) Station: USC00516128 Name: MANOA LYON ARBO 785.2, HI US Latitude: 21.3331 Longitude: -157.8025 Elevation: 152.4\n",
      "Total amount of rainfall: count(:count_1) Station: USC00513117 Name: KANEOHE 838.1, HI US Latitude: 21.4234 Longitude: -157.8015 Elevation: 14.6\n",
      "Total amount of rainfall: count(:count_1) Station: USC00511918 Name: HONOLULU OBSERVATORY 702.2, HI US Latitude: 21.3152 Longitude: -157.9992 Elevation: 0.9\n",
      "Total amount of rainfall: count(:count_1) Station: USC00514830 Name: KUALOA RANCH HEADQUARTERS 886.9, HI US Latitude: 21.5213 Longitude: -157.8374 Elevation: 7.0\n",
      "Total amount of rainfall: count(*) Station: USC00518838 Name: UPPER WAHIAWA 874.3, HI US Latitude: 21.4992 Longitude: -158.0111 Elevation: 306.6\n",
      "Total amount of rainfall: count(*) Station: USC00517948 Name: PEARL CITY, HI US Latitude: 21.3934 Longitude: -157.9751 Elevation: 11.9\n"
     ]
    }
   ],
   "source": [
    "for m, s in session.query(Measurement, Station, ).filter(Measurement.station == Station.station).filter(Measurement.date > '2012-02-28').filter(Measurement.date < '2012-03-28').group_by(Measurement.station).order_by(func.count(Measurement.prcp).desc()).all():\n",
    "   print (\"Total amount of rainfall: {} Station: {} Name: {} Latitude: {} Longitude: {} Elevation: {}\".format(func.count(m.prcp),m.station, s.name, s.latitude, s.longitude, s.elevation))"
   ]
  },
  {
   "cell_type": "markdown",
   "metadata": {},
   "source": [
    "## Optional Challenge Assignment"
   ]
  },
  {
   "cell_type": "code",
   "execution_count": null,
   "metadata": {},
   "outputs": [],
   "source": [
    "# Create a query that will calculate the daily normals \n",
    "# (i.e. the averages for tmin, tmax, and tavg for all historic data matching a specific month and day)\n",
    "\n",
    "def daily_normals(date):\n",
    "    \"\"\"Daily Normals.\n",
    "    \n",
    "    Args:\n",
    "        date (str): A date string in the format '%m-%d'\n",
    "        \n",
    "    Returns:\n",
    "        A list of tuples containing the daily normals, tmin, tavg, and tmax\n",
    "    \n",
    "    \"\"\"\n",
    "    \n",
    "    sel = [func.min(Measurement.tobs), func.avg(Measurement.tobs), func.max(Measurement.tobs)]\n",
    "    return session.query(*sel).filter(func.strftime(\"%m-%d\", Measurement.date) == date).all()\n",
    "    \n",
    "daily_normals(\"01-01\")"
   ]
  },
  {
   "cell_type": "code",
   "execution_count": null,
   "metadata": {},
   "outputs": [],
   "source": [
    "# calculate the daily normals for your trip\n",
    "# push each tuple of calculations into a list called `normals`\n",
    "\n",
    "# Set the start and end date of the trip\n",
    "\n",
    "# Use the start and end date to create a range of dates\n",
    "\n",
    "# Stip off the year and save a list of %m-%d strings\n",
    "\n",
    "# Loop through the list of %m-%d strings and calculate the normals for each date\n"
   ]
  },
  {
   "cell_type": "code",
   "execution_count": null,
   "metadata": {},
   "outputs": [],
   "source": [
    "# Load the previous query results into a Pandas DataFrame and add the `trip_dates` range as the `date` index\n"
   ]
  },
  {
   "cell_type": "code",
   "execution_count": null,
   "metadata": {},
   "outputs": [],
   "source": [
    "# Plot the daily normals as an area plot with `stacked=False`\n"
   ]
  }
 ],
 "metadata": {
  "kernel_info": {
   "name": "python3"
  },
  "kernelspec": {
   "display_name": "Python 3",
   "language": "python",
   "name": "python3"
  },
  "language_info": {
   "codemirror_mode": {
    "name": "ipython",
    "version": 3
   },
   "file_extension": ".py",
   "mimetype": "text/x-python",
   "name": "python",
   "nbconvert_exporter": "python",
   "pygments_lexer": "ipython3",
   "version": "3.7.3"
  },
  "nteract": {
   "version": "0.12.3"
  },
  "varInspector": {
   "cols": {
    "lenName": 16,
    "lenType": 16,
    "lenVar": 40
   },
   "kernels_config": {
    "python": {
     "delete_cmd_postfix": "",
     "delete_cmd_prefix": "del ",
     "library": "var_list.py",
     "varRefreshCmd": "print(var_dic_list())"
    },
    "r": {
     "delete_cmd_postfix": ") ",
     "delete_cmd_prefix": "rm(",
     "library": "var_list.r",
     "varRefreshCmd": "cat(var_dic_list()) "
    }
   },
   "types_to_exclude": [
    "module",
    "function",
    "builtin_function_or_method",
    "instance",
    "_Feature"
   ],
   "window_display": false
  }
 },
 "nbformat": 4,
 "nbformat_minor": 4
}
